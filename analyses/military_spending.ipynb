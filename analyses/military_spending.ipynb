{
 "cells": [
  {
   "cell_type": "markdown",
   "metadata": {},
   "source": [
    "# Military spending per country around the world"
   ]
  },
  {
   "cell_type": "markdown",
   "metadata": {},
   "source": [
    "## The questions"
   ]
  },
  {
   "cell_type": "markdown",
   "metadata": {},
   "source": [
    "  - How much does each country spend on military in the world?\n",
    "  - How does the US spending compare to the rest of the world?"
   ]
  },
  {
   "cell_type": "markdown",
   "metadata": {},
   "source": [
    "## Initialize our analysis environment"
   ]
  },
  {
   "cell_type": "code",
   "execution_count": 12,
   "metadata": {
    "collapsed": false
   },
   "outputs": [],
   "source": [
    "from pandas import read_html"
   ]
  },
  {
   "cell_type": "markdown",
   "metadata": {},
   "source": [
    "## Download and format data"
   ]
  },
  {
   "cell_type": "markdown",
   "metadata": {},
   "source": [
    "Download and parse current data from Wikipedia: https://en.wikipedia.org/wiki/List_of_countries_by_military_expenditures"
   ]
  },
  {
   "cell_type": "code",
   "execution_count": 2,
   "metadata": {
    "collapsed": true
   },
   "outputs": [],
   "source": [
    "tables = read_html(\"https://en.wikipedia.org/wiki/List_of_countries_by_military_expenditures\")"
   ]
  },
  {
   "cell_type": "code",
   "execution_count": 3,
   "metadata": {
    "collapsed": false
   },
   "outputs": [
    {
     "name": "stdout",
     "output_type": "stream",
     "text": [
      "6\n",
      "                                                  0    \\\n",
      "0   List by the Stockholm International Peace Rese...   \n",
      "1   Rank Country Spending ($ Bn.)  % of GDP World ...   \n",
      "2                                                Rank   \n",
      "3                                                 NaN   \n",
      "4                                                  01   \n",
      "5                                                  02   \n",
      "6                                                  03   \n",
      "7                                                  04   \n",
      "8                                                  05   \n",
      "9                                                  06   \n",
      "10                                                 07   \n",
      "11                                                 08   \n",
      "12                                                 09   \n",
      "13                                                 10   \n",
      "14                                                 11   \n",
      "15                                                 12   \n",
      "16                                                 13   \n",
      "17                                                 14   \n",
      "18                                                 15   \n",
      "19                                               Rank   \n",
      "20                                                 01   \n",
      "21                                                 02   \n",
      "22                                                 03   \n",
      "23                                                 04   \n",
      "24                                                 05   \n",
      "25                                                 06   \n",
      "26                                                 07   \n",
      "27                                                 08   \n",
      "28                                                 09   \n",
      "29                                                 10   \n",
      "30                                                 11   \n",
      "31                                                 12   \n",
      "32                                                 13   \n",
      "33                                                 14   \n",
      "34                                                 15   \n",
      "\n",
      "                                                  1                 2    \\\n",
      "0   List by the International Institute for Strate...               NaN   \n",
      "1                                                Rank           Country   \n",
      "2                                             Country  Spending ($ Bn.)   \n",
      "3                                         World total            1676.0   \n",
      "4                                       United States             596.0   \n",
      "5                                            China[a]             215.0   \n",
      "6                                     Saudi Arabia[b]              87.2   \n",
      "7                                              Russia              66.4   \n",
      "8                                      United Kingdom              55.5   \n",
      "9                                               India              51.3   \n",
      "10                                             France              50.9   \n",
      "11                                              Japan              40.9   \n",
      "12                                         Germany[a]              39.4   \n",
      "13                                        South Korea              36.4   \n",
      "14                                             Brazil              24.6   \n",
      "15                                              Italy              23.8   \n",
      "16                                          Australia              23.6   \n",
      "17                                                UAE              22.8   \n",
      "18                                             Israel              16.1   \n",
      "19                                            Country  Spending ($ Bn.)   \n",
      "20                                      United States             597.5   \n",
      "21                                              China             145.8   \n",
      "22                                       Saudi Arabia              81.9   \n",
      "23                                             Russia              65.6   \n",
      "24                                     United Kingdom              56.2   \n",
      "25                                              India              48.0   \n",
      "26                                             France              46.8   \n",
      "27                                              Japan              41.0   \n",
      "28                                            Germany              36.7   \n",
      "29                                        South Korea              33.5   \n",
      "30                                             Brazil              24.3   \n",
      "31                                          Australia              22.8   \n",
      "32                                              Italy              21.6   \n",
      "33                                               Iraq              21.1   \n",
      "34                                             Israel              18.6   \n",
      "\n",
      "                 3         4    5            6       7    8    9    ...   \\\n",
      "0                NaN       NaN  NaN          NaN     NaN  NaN  NaN  ...    \n",
      "1   Spending ($ Bn.)  % of GDP  NaN  World total  1676.0  2.3  1.0  ...    \n",
      "2           % of GDP       NaN  NaN          NaN     NaN  NaN  NaN  ...    \n",
      "3                2.3       NaN  NaN          NaN     NaN  NaN  NaN  ...    \n",
      "4                3.3       NaN  NaN          NaN     NaN  NaN  NaN  ...    \n",
      "5                1.9       NaN  NaN          NaN     NaN  NaN  NaN  ...    \n",
      "6               13.7       NaN  NaN          NaN     NaN  NaN  NaN  ...    \n",
      "7                5.4       NaN  NaN          NaN     NaN  NaN  NaN  ...    \n",
      "8                2.0       NaN  NaN          NaN     NaN  NaN  NaN  ...    \n",
      "9                2.3       NaN  NaN          NaN     NaN  NaN  NaN  ...    \n",
      "10               2.1       NaN  NaN          NaN     NaN  NaN  NaN  ...    \n",
      "11               1.0       NaN  NaN          NaN     NaN  NaN  NaN  ...    \n",
      "12               1.2       NaN  NaN          NaN     NaN  NaN  NaN  ...    \n",
      "13               2.6       NaN  NaN          NaN     NaN  NaN  NaN  ...    \n",
      "14               1.4       NaN  NaN          NaN     NaN  NaN  NaN  ...    \n",
      "15               1.3       NaN  NaN          NaN     NaN  NaN  NaN  ...    \n",
      "16               1.9       NaN  NaN          NaN     NaN  NaN  NaN  ...    \n",
      "17               5.7       NaN  NaN          NaN     NaN  NaN  NaN  ...    \n",
      "18               5.4       NaN  NaN          NaN     NaN  NaN  NaN  ...    \n",
      "19               NaN       NaN  NaN          NaN     NaN  NaN  NaN  ...    \n",
      "20               NaN       NaN  NaN          NaN     NaN  NaN  NaN  ...    \n",
      "21               NaN       NaN  NaN          NaN     NaN  NaN  NaN  ...    \n",
      "22               NaN       NaN  NaN          NaN     NaN  NaN  NaN  ...    \n",
      "23               NaN       NaN  NaN          NaN     NaN  NaN  NaN  ...    \n",
      "24               NaN       NaN  NaN          NaN     NaN  NaN  NaN  ...    \n",
      "25               NaN       NaN  NaN          NaN     NaN  NaN  NaN  ...    \n",
      "26               NaN       NaN  NaN          NaN     NaN  NaN  NaN  ...    \n",
      "27               NaN       NaN  NaN          NaN     NaN  NaN  NaN  ...    \n",
      "28               NaN       NaN  NaN          NaN     NaN  NaN  NaN  ...    \n",
      "29               NaN       NaN  NaN          NaN     NaN  NaN  NaN  ...    \n",
      "30               NaN       NaN  NaN          NaN     NaN  NaN  NaN  ...    \n",
      "31               NaN       NaN  NaN          NaN     NaN  NaN  NaN  ...    \n",
      "32               NaN       NaN  NaN          NaN     NaN  NaN  NaN  ...    \n",
      "33               NaN       NaN  NaN          NaN     NaN  NaN  NaN  ...    \n",
      "34               NaN       NaN  NaN          NaN     NaN  NaN  NaN  ...    \n",
      "\n",
      "     108   109    110   111   112   113   114   115     116   117  \n",
      "0    NaN   NaN    NaN   NaN   NaN   NaN   NaN   NaN     NaN   NaN  \n",
      "1   22.8  13.0  Italy  21.6  14.0  Iraq  21.1  15.0  Israel  18.6  \n",
      "2    NaN   NaN    NaN   NaN   NaN   NaN   NaN   NaN     NaN   NaN  \n",
      "3    NaN   NaN    NaN   NaN   NaN   NaN   NaN   NaN     NaN   NaN  \n",
      "4    NaN   NaN    NaN   NaN   NaN   NaN   NaN   NaN     NaN   NaN  \n",
      "5    NaN   NaN    NaN   NaN   NaN   NaN   NaN   NaN     NaN   NaN  \n",
      "6    NaN   NaN    NaN   NaN   NaN   NaN   NaN   NaN     NaN   NaN  \n",
      "7    NaN   NaN    NaN   NaN   NaN   NaN   NaN   NaN     NaN   NaN  \n",
      "8    NaN   NaN    NaN   NaN   NaN   NaN   NaN   NaN     NaN   NaN  \n",
      "9    NaN   NaN    NaN   NaN   NaN   NaN   NaN   NaN     NaN   NaN  \n",
      "10   NaN   NaN    NaN   NaN   NaN   NaN   NaN   NaN     NaN   NaN  \n",
      "11   NaN   NaN    NaN   NaN   NaN   NaN   NaN   NaN     NaN   NaN  \n",
      "12   NaN   NaN    NaN   NaN   NaN   NaN   NaN   NaN     NaN   NaN  \n",
      "13   NaN   NaN    NaN   NaN   NaN   NaN   NaN   NaN     NaN   NaN  \n",
      "14   NaN   NaN    NaN   NaN   NaN   NaN   NaN   NaN     NaN   NaN  \n",
      "15   NaN   NaN    NaN   NaN   NaN   NaN   NaN   NaN     NaN   NaN  \n",
      "16   NaN   NaN    NaN   NaN   NaN   NaN   NaN   NaN     NaN   NaN  \n",
      "17   NaN   NaN    NaN   NaN   NaN   NaN   NaN   NaN     NaN   NaN  \n",
      "18   NaN   NaN    NaN   NaN   NaN   NaN   NaN   NaN     NaN   NaN  \n",
      "19   NaN   NaN    NaN   NaN   NaN   NaN   NaN   NaN     NaN   NaN  \n",
      "20   NaN   NaN    NaN   NaN   NaN   NaN   NaN   NaN     NaN   NaN  \n",
      "21   NaN   NaN    NaN   NaN   NaN   NaN   NaN   NaN     NaN   NaN  \n",
      "22   NaN   NaN    NaN   NaN   NaN   NaN   NaN   NaN     NaN   NaN  \n",
      "23   NaN   NaN    NaN   NaN   NaN   NaN   NaN   NaN     NaN   NaN  \n",
      "24   NaN   NaN    NaN   NaN   NaN   NaN   NaN   NaN     NaN   NaN  \n",
      "25   NaN   NaN    NaN   NaN   NaN   NaN   NaN   NaN     NaN   NaN  \n",
      "26   NaN   NaN    NaN   NaN   NaN   NaN   NaN   NaN     NaN   NaN  \n",
      "27   NaN   NaN    NaN   NaN   NaN   NaN   NaN   NaN     NaN   NaN  \n",
      "28   NaN   NaN    NaN   NaN   NaN   NaN   NaN   NaN     NaN   NaN  \n",
      "29   NaN   NaN    NaN   NaN   NaN   NaN   NaN   NaN     NaN   NaN  \n",
      "30   NaN   NaN    NaN   NaN   NaN   NaN   NaN   NaN     NaN   NaN  \n",
      "31   NaN   NaN    NaN   NaN   NaN   NaN   NaN   NaN     NaN   NaN  \n",
      "32   NaN   NaN    NaN   NaN   NaN   NaN   NaN   NaN     NaN   NaN  \n",
      "33   NaN   NaN    NaN   NaN   NaN   NaN   NaN   NaN     NaN   NaN  \n",
      "34   NaN   NaN    NaN   NaN   NaN   NaN   NaN   NaN     NaN   NaN  \n",
      "\n",
      "[35 rows x 118 columns]\n"
     ]
    }
   ],
   "source": [
    "print(len(tables))\n",
    "raw_spending = tables[1]\n",
    "print(raw_spending)"
   ]
  },
  {
   "cell_type": "code",
   "execution_count": 4,
   "metadata": {
    "collapsed": false,
    "scrolled": true
   },
   "outputs": [
    {
     "name": "stdout",
     "output_type": "stream",
     "text": [
      "2   Rank          Country  Spending ($ Bn.) % of GDP\n",
      "3    NaN      World total            1676.0      2.3\n",
      "4     01    United States             596.0      3.3\n",
      "5     02         China[a]             215.0      1.9\n",
      "6     03  Saudi Arabia[b]              87.2     13.7\n",
      "7     04           Russia              66.4      5.4\n",
      "8     05   United Kingdom              55.5      2.0\n",
      "9     06            India              51.3      2.3\n",
      "10    07           France              50.9      2.1\n",
      "11    08            Japan              40.9      1.0\n",
      "12    09       Germany[a]              39.4      1.2\n",
      "13    10      South Korea              36.4      2.6\n",
      "14    11           Brazil              24.6      1.4\n",
      "15    12            Italy              23.8      1.3\n",
      "16    13        Australia              23.6      1.9\n",
      "17    14              UAE              22.8      5.7\n",
      "18    15           Israel              16.1      5.4\n",
      "19  Rank          Country  Spending ($ Bn.)      NaN\n",
      "20    01    United States             597.5      NaN\n",
      "21    02            China             145.8      NaN\n",
      "22    03     Saudi Arabia              81.9      NaN\n",
      "23    04           Russia              65.6      NaN\n",
      "24    05   United Kingdom              56.2      NaN\n",
      "25    06            India              48.0      NaN\n",
      "26    07           France              46.8      NaN\n",
      "27    08            Japan              41.0      NaN\n",
      "28    09          Germany              36.7      NaN\n",
      "29    10      South Korea              33.5      NaN\n",
      "30    11           Brazil              24.3      NaN\n",
      "31    12        Australia              22.8      NaN\n",
      "32    13            Italy              21.6      NaN\n",
      "33    14             Iraq              21.1      NaN\n",
      "34    15           Israel              18.6      NaN\n"
     ]
    }
   ],
   "source": [
    "cleaned_spending = raw_spending.iloc[3:, :4]\n",
    "cleaned_spending.columns = raw_spending.iloc[2, :4]\n",
    "print(cleaned_spending)"
   ]
  },
  {
   "cell_type": "code",
   "execution_count": 5,
   "metadata": {
    "collapsed": false
   },
   "outputs": [],
   "source": [
    "# Remove the repeat in column name:\n",
    "cleaned_spending = cleaned_spending.loc[cleaned_spending[\"Country\"] != \"Country\", :]\n",
    "# Convert data columns to numbers:\n",
    "cleaned_spending = cleaned_spending.copy()\n",
    "for col in [\"Spending ($ Bn.)\", \"% of GDP\"]:\n",
    "    cleaned_spending[col] = cleaned_spending[col].astype(\"float\")"
   ]
  },
  {
   "cell_type": "code",
   "execution_count": 6,
   "metadata": {
    "collapsed": false,
    "scrolled": false
   },
   "outputs": [
    {
     "name": "stdout",
     "output_type": "stream",
     "text": [
      "2           Country  Spending ($ Bn.)\n",
      "3       World total            1676.0\n",
      "4     United States             596.0\n",
      "5          China[a]             215.0\n",
      "6   Saudi Arabia[b]              87.2\n",
      "7            Russia              66.4\n",
      "8    United Kingdom              55.5\n",
      "9             India              51.3\n",
      "10           France              50.9\n",
      "11            Japan              40.9\n",
      "12       Germany[a]              39.4\n",
      "13      South Korea              36.4\n",
      "14           Brazil              24.6\n",
      "15            Italy              23.8\n",
      "16        Australia              23.6\n",
      "17              UAE              22.8\n",
      "18           Israel              16.1\n",
      "20    United States             597.5\n",
      "21            China             145.8\n",
      "22     Saudi Arabia              81.9\n",
      "23           Russia              65.6\n",
      "24   United Kingdom              56.2\n",
      "25            India              48.0\n",
      "26           France              46.8\n",
      "27            Japan              41.0\n",
      "28          Germany              36.7\n",
      "29      South Korea              33.5\n",
      "30           Brazil              24.3\n",
      "31        Australia              22.8\n",
      "32            Italy              21.6\n",
      "33             Iraq              21.1\n",
      "34           Israel              18.6\n"
     ]
    }
   ],
   "source": [
    "print(cleaned_spending[[\"Country\", \"Spending ($ Bn.)\"]])"
   ]
  },
  {
   "cell_type": "markdown",
   "metadata": {},
   "source": [
    "## Answer the questions!"
   ]
  },
  {
   "cell_type": "code",
   "execution_count": 7,
   "metadata": {
    "collapsed": false
   },
   "outputs": [
    {
     "name": "stdout",
     "output_type": "stream",
     "text": [
      "US military spending (in Billion $):\n"
     ]
    },
    {
     "data": {
      "text/plain": [
       "596.0"
      ]
     },
     "execution_count": 7,
     "metadata": {},
     "output_type": "execute_result"
    }
   ],
   "source": [
    "print(\"US military spending (in Billion $):\")\n",
    "cleaned_spending.loc[4, \"Spending ($ Bn.)\"]"
   ]
  },
  {
   "cell_type": "code",
   "execution_count": 8,
   "metadata": {
    "collapsed": false
   },
   "outputs": [
    {
     "name": "stdout",
     "output_type": "stream",
     "text": [
      "Spending for the next 7 countries (in Billion $):\n"
     ]
    },
    {
     "data": {
      "text/plain": [
       "567.20000000000005"
      ]
     },
     "execution_count": 8,
     "metadata": {},
     "output_type": "execute_result"
    }
   ],
   "source": [
    "next_country_slice = slice(5, 11)\n",
    "num_next_countries = len(cleaned_spending.loc[next_country_slice])\n",
    "print(\"Spending for the next {} countries (in Billion $):\".format(num_next_countries))\n",
    "cleaned_spending.loc[next_country_slice, \"Spending ($ Bn.)\"].sum()"
   ]
  },
  {
   "cell_type": "markdown",
   "metadata": {},
   "source": [
    "Bonus question: Who are these next 7 countries? Is the US likely to go to war with any of these countries?"
   ]
  },
  {
   "cell_type": "code",
   "execution_count": 9,
   "metadata": {
    "collapsed": false
   },
   "outputs": [
    {
     "name": "stdout",
     "output_type": "stream",
     "text": [
      "Following next 7 countries:\n",
      "5            China[a]\n",
      "6     Saudi Arabia[b]\n",
      "7              Russia\n",
      "8      United Kingdom\n",
      "9               India\n",
      "10             France\n",
      "11              Japan\n",
      "Name: Country, dtype: object\n"
     ]
    }
   ],
   "source": [
    "print(\"Following next {} countries:\".format(num_next_countries))\n",
    "print(cleaned_spending.loc[next_country_slice, \"Country\"])"
   ]
  },
  {
   "cell_type": "markdown",
   "metadata": {},
   "source": [
    "Are these ennemies in the following 7 countries?"
   ]
  },
  {
   "cell_type": "code",
   "execution_count": 11,
   "metadata": {
    "collapsed": false
   },
   "outputs": [
    {
     "name": "stdout",
     "output_type": "stream",
     "text": [
      "12     Germany[a]\n",
      "13    South Korea\n",
      "14         Brazil\n",
      "15          Italy\n",
      "16      Australia\n",
      "17            UAE\n",
      "18         Israel\n",
      "Name: Country, dtype: object\n"
     ]
    }
   ],
   "source": [
    "next_country_slice = slice(12, 18)\n",
    "print(cleaned_spending.loc[next_country_slice, \"Country\"])"
   ]
  },
  {
   "cell_type": "code",
   "execution_count": null,
   "metadata": {
    "collapsed": true
   },
   "outputs": [],
   "source": [
    "Who are the following 7 countries"
   ]
  },
  {
   "cell_type": "markdown",
   "metadata": {},
   "source": [
    "## See also"
   ]
  },
  {
   "cell_type": "markdown",
   "metadata": {},
   "source": [
    "https://en.wikipedia.org/wiki/Military_budget"
   ]
  }
 ],
 "metadata": {
  "kernelspec": {
   "display_name": "Python 2",
   "language": "python",
   "name": "python2"
  },
  "language_info": {
   "codemirror_mode": {
    "name": "ipython",
    "version": 2
   },
   "file_extension": ".py",
   "mimetype": "text/x-python",
   "name": "python",
   "nbconvert_exporter": "python",
   "pygments_lexer": "ipython2",
   "version": "2.7.11"
  }
 },
 "nbformat": 4,
 "nbformat_minor": 2
}
